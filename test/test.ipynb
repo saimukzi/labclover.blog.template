{
 "cells": [
  {
   "cell_type": "code",
   "execution_count": 16,
   "metadata": {},
   "outputs": [],
   "source": [
    "from jinja2 import Environment, FileSystemLoader, select_autoescape\n",
    "import json\n",
    "import copy\n",
    "\n",
    "env = Environment(\n",
    "    loader=FileSystemLoader(\"templates\"),\n",
    "    autoescape=select_autoescape()\n",
    ")"
   ]
  },
  {
   "cell_type": "code",
   "execution_count": 13,
   "metadata": {},
   "outputs": [],
   "source": [
    "def read_file(fn, encoding='utf-8'):\n",
    "    with open(fn, 'rt', encoding=encoding) as fin:\n",
    "        ret = fin.readlines()\n",
    "    ret = [i.strip('\\n') for i in ret]\n",
    "    return ret\n"
   ]
  },
  {
   "cell_type": "code",
   "execution_count": 18,
   "metadata": {},
   "outputs": [
    {
     "name": "stdout",
     "output_type": "stream",
     "text": [
      "<html>\n",
      "<head>\n",
      "    <title>{title}</title>\n",
      "</head>\n",
      "<body>\n",
      "    <h1>{title}</h1>\n",
      "</body>\n",
      "</html>\n"
     ]
    }
   ],
   "source": [
    "template = env.get_template(\"test.html\")\n",
    "print(template.render())"
   ]
  },
  {
   "cell_type": "code",
   "execution_count": 22,
   "metadata": {},
   "outputs": [
    {
     "name": "stdout",
     "output_type": "stream",
     "text": [
      "{'title': '這是一個測試', 'date': '2024-07-23'}\n",
      "<html>\n",
      "<head>\n",
      "    <title>這是一個測試</title>\n",
      "</head>\n",
      "<body>\n",
      "    <h1>這是一個測試</h1>\n",
      "\n",
      "<p>這是第一段</p>\n",
      "<p>這是第二段</p>\n",
      "<p>這是第三段第一行<br/>這是第三段第二行</p>\n",
      "\n",
      "</body>\n",
      "</html>\n"
     ]
    }
   ],
   "source": [
    "fn = 'content/2024/07/20240723-test.txt'\n",
    "content = read_file(fn)\n",
    "\n",
    "config_start_line_num = content.index('=== CONFIG START ===')\n",
    "config_end_line_num = content.index('=== CONFIG END ===')\n",
    "\n",
    "content_start_line_num = content.index('=== CONTENT START ===')\n",
    "content_end_line_num = content.index('=== CONTENT END ===')\n",
    "\n",
    "config_lines = content[config_start_line_num+1:config_end_line_num]\n",
    "content_lines = content[content_start_line_num+1:content_end_line_num]\n",
    "\n",
    "config_data = '\\n'.join(config_lines)\n",
    "config_data = json.loads(config_data)\n",
    "print(config_data)\n",
    "\n",
    "content = '\\n'.join(content_lines)\n",
    "\n",
    "render_data = copy.deepcopy(config_data)\n",
    "render_data['__content__'] = content\n",
    "\n",
    "template = env.get_template(\"test.html\")\n",
    "print(template.render(render_data))\n"
   ]
  }
 ],
 "metadata": {
  "kernelspec": {
   "display_name": "Python 3",
   "language": "python",
   "name": "python3"
  },
  "language_info": {
   "codemirror_mode": {
    "name": "ipython",
    "version": 3
   },
   "file_extension": ".py",
   "mimetype": "text/x-python",
   "name": "python",
   "nbconvert_exporter": "python",
   "pygments_lexer": "ipython3",
   "version": "3.12.4"
  }
 },
 "nbformat": 4,
 "nbformat_minor": 2
}
