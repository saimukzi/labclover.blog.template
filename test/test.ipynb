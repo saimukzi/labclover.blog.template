{
 "cells": [
  {
   "cell_type": "code",
   "execution_count": 1,
   "metadata": {},
   "outputs": [],
   "source": [
    "from jinja2 import Environment, FileSystemLoader, select_autoescape\n",
    "import json\n",
    "import copy\n",
    "import pathlib\n",
    "\n",
    "env = Environment(\n",
    "    loader=FileSystemLoader(\"templates\"),\n",
    "    autoescape=select_autoescape()\n",
    ")"
   ]
  },
  {
   "cell_type": "code",
   "execution_count": 2,
   "metadata": {},
   "outputs": [],
   "source": [
    "def read_file(fn, encoding='utf-8'):\n",
    "    with open(fn, 'rt', encoding=encoding) as fin:\n",
    "        ret = fin.readlines()\n",
    "    ret = [i.strip('\\n') for i in ret]\n",
    "    return ret\n"
   ]
  },
  {
   "cell_type": "code",
   "execution_count": 3,
   "metadata": {},
   "outputs": [
    {
     "name": "stdout",
     "output_type": "stream",
     "text": [
      "<html>\n",
      "<head>\n",
      "    <title></title>\n",
      "</head>\n",
      "<body>\n",
      "    <h1></h1>\n",
      "\n",
      "</body>\n",
      "</html>\n"
     ]
    }
   ],
   "source": [
    "template = env.get_template(\"test.html\")\n",
    "print(template.render())"
   ]
  },
  {
   "cell_type": "code",
   "execution_count": 4,
   "metadata": {},
   "outputs": [
    {
     "name": "stdout",
     "output_type": "stream",
     "text": [
      "{'title': '這是一個測試', 'date': '2024-07-23'}\n",
      "<html>\n",
      "<head>\n",
      "    <title>這是一個測試</title>\n",
      "</head>\n",
      "<body>\n",
      "    <h1>這是一個測試</h1>\n",
      "\n",
      "<p>這是第一段</p>\n",
      "<p>這是第二段</p>\n",
      "<p>這是第三段第一行<br/>這是第三段第二行</p>\n",
      "\n",
      "</body>\n",
      "</html>\n"
     ]
    }
   ],
   "source": [
    "fn = 'articles/2024/07/20240723-test.txt'\n",
    "article = read_file(fn)\n",
    "\n",
    "config_start_line_num = article.index('=== META START ===')\n",
    "config_end_line_num = article.index('=== META END ===')\n",
    "\n",
    "article_start_line_num = article.index('=== CONTENT START ===')\n",
    "article_end_line_num = article.index('=== CONTENT END ===')\n",
    "\n",
    "config_lines = article[config_start_line_num+1:config_end_line_num]\n",
    "article_lines = article[article_start_line_num+1:article_end_line_num]\n",
    "\n",
    "config_data = '\\n'.join(config_lines)\n",
    "config_data = json.loads(config_data)\n",
    "print(config_data)\n",
    "\n",
    "article = '\\n'.join(article_lines)\n",
    "\n",
    "render_data = copy.deepcopy(config_data)\n",
    "render_data['__article__'] = article\n",
    "\n",
    "template = env.get_template(\"test.html\")\n",
    "print(template.render(render_data))\n"
   ]
  },
  {
   "cell_type": "code",
   "execution_count": 7,
   "metadata": {},
   "outputs": [
    {
     "name": "stdout",
     "output_type": "stream",
     "text": [
      "asdf\\qwer\n",
      "('asdf', 'qwer')\n"
     ]
    }
   ],
   "source": [
    "x = pathlib.Path('asdf\\\\qwer')\n",
    "print(x)\n",
    "print(x.parts)"
   ]
  }
 ],
 "metadata": {
  "kernelspec": {
   "display_name": "Python 3",
   "language": "python",
   "name": "python3"
  },
  "language_info": {
   "codemirror_mode": {
    "name": "ipython",
    "version": 3
   },
   "file_extension": ".py",
   "mimetype": "text/x-python",
   "name": "python",
   "nbconvert_exporter": "python",
   "pygments_lexer": "ipython3",
   "version": "3.12.1"
  }
 },
 "nbformat": 4,
 "nbformat_minor": 2
}
